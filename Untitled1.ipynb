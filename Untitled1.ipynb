{
  "nbformat": 4,
  "nbformat_minor": 0,
  "metadata": {
    "colab": {
      "provenance": [],
      "authorship_tag": "ABX9TyP+vVR3rSNUmDMiuEyagauv",
      "include_colab_link": true
    },
    "kernelspec": {
      "name": "python3",
      "display_name": "Python 3"
    },
    "language_info": {
      "name": "python"
    }
  },
  "cells": [
    {
      "cell_type": "markdown",
      "metadata": {
        "id": "view-in-github",
        "colab_type": "text"
      },
      "source": [
        "<a href=\"https://colab.research.google.com/github/adricia-png/phyton/blob/main/Untitled1.ipynb\" target=\"_parent\"><img src=\"https://colab.research.google.com/assets/colab-badge.svg\" alt=\"Open In Colab\"/></a>"
      ]
    },
    {
      "cell_type": "code",
      "source": [
        "#questão 1 atividade 02/10/25 python\n",
        "\n",
        "numero = int(input(\"digite um numero: \"))\n",
        "\n",
        "antecessor = numero - 1\n",
        "\n",
        "print(\"o antecessor de\", numero, \"é\", antecessor)"
      ],
      "metadata": {
        "colab": {
          "base_uri": "https://localhost:8080/"
        },
        "id": "WgP1H0awpkdL",
        "outputId": "6adc671f-cd92-4243-d403-ac6ead5750c8"
      },
      "execution_count": 5,
      "outputs": [
        {
          "output_type": "stream",
          "name": "stdout",
          "text": [
            "digite um numero: 78\n",
            "o antecessor de 78 é 77\n"
          ]
        }
      ]
    },
    {
      "cell_type": "code",
      "source": [
        "#questão 2 atividade 02/10/25 python\n",
        "\n",
        "base = float(input(\"digite o valor da base do retângulo: \"))\n",
        "altura = float(input(\"digite o valor da altura do retangulo: \"))\n",
        "area = base * altura\n",
        "\n",
        "print(\"a área do retangulo é:\", area)"
      ],
      "metadata": {
        "colab": {
          "base_uri": "https://localhost:8080/"
        },
        "id": "1kKk9mDw1KUp",
        "outputId": "5c9a1923-6359-4080-cffc-22a1a1410b49"
      },
      "execution_count": 7,
      "outputs": [
        {
          "output_type": "stream",
          "name": "stdout",
          "text": [
            "digite o valor da base do retângulo: 3\n",
            "digite o valor da altura do retangulo: 46\n",
            "a área do retangulo é: 138.0\n"
          ]
        }
      ]
    },
    {
      "cell_type": "code",
      "source": [
        "#questão 3 atividade 02/10/25 python]\n",
        "total_eleitores = int(input(\"qual o numero total de eleitores? \"))\n",
        "votos_brancos = int(input(\"qual o numero de votos brancos? \"))\n",
        "votos_nulos = int(input(\"qual o numero de votos nulos? \"))\n",
        "votos_validos = int(input(\"qual o numero de votos validos? \"))\n",
        "\n",
        "if votos_brancos + votos_nulos + votos_validos > total_eleitores:\n",
        "    print(\" algo deu errado: a soma dos votos é maior que o total de eleitores. Tente novamente!\")\n",
        "else:\n",
        "\n",
        "    perc_brancos = (votos_brancos / total_eleitores) * 100\n",
        "    perc_nulos = (votos_nulos / total_eleitores) * 100\n",
        "    perc_validos = (votos_validos / total_eleitores) * 100\n",
        "\n",
        "\n",
        "    print(\"==============================\")\n",
        "    print(\"resultado:\")\n",
        "    print(f\"votos brancos: {perc_brancos:.2f}%\")\n",
        "    print(f\"votos nulos: {perc_nulos:.2f}%\")\n",
        "    print(f\"votos válidos: {perc_validos:.2f}%\")"
      ],
      "metadata": {
        "colab": {
          "base_uri": "https://localhost:8080/"
        },
        "id": "1GiPKBB12NMo",
        "outputId": "5210424a-6dd4-4866-8666-047b7306ae90"
      },
      "execution_count": 15,
      "outputs": [
        {
          "output_type": "stream",
          "name": "stdout",
          "text": [
            "qual o numero total de eleitores? 50\n",
            "qual o numero de votos brancos? 10\n",
            "qual o numero de votos nulos? 20\n",
            "qual o numero de votos validos? 20\n",
            "==============================\n",
            "resultado:\n",
            "votos brancos: 20.00%\n",
            "votos nulos: 40.00%\n",
            "votos válidos: 40.00%\n"
          ]
        }
      ]
    },
    {
      "cell_type": "code",
      "source": [],
      "metadata": {
        "id": "Zvkd4NRI4XHH"
      },
      "execution_count": null,
      "outputs": []
    },
    {
      "cell_type": "code",
      "source": [
        "#questão 5 atividade 02/10/25 python\n",
        "\n",
        "def soma_imposto(taxa_imposto, custo):\n",
        "    imposto = custo * (taxa_imposto / 100)\n",
        "    custo_com_imposto = custo + imposto\n",
        "    return custo_com_imposto\n",
        "\n",
        "taxa = float(input(\"digite a taxa de imposto (em %): \"))\n",
        "custo_item = float(input(\"digite o valor do item: \"))\n",
        "\n",
        "custo_final = soma_imposto(taxa, custo_item)\n",
        "\n",
        "print(\"o custo do item com imposto é: R$\", round(custo_final, 2))"
      ],
      "metadata": {
        "id": "_bg4i_-R4DG5"
      },
      "execution_count": null,
      "outputs": []
    }
  ]
}