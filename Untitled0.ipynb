{
  "nbformat": 4,
  "nbformat_minor": 0,
  "metadata": {
    "colab": {
      "provenance": [],
      "authorship_tag": "ABX9TyPZmXrnb6zuw3oCy/RVuMBi",
      "include_colab_link": true
    },
    "kernelspec": {
      "name": "python3",
      "display_name": "Python 3"
    },
    "language_info": {
      "name": "python"
    }
  },
  "cells": [
    {
      "cell_type": "markdown",
      "metadata": {
        "id": "view-in-github",
        "colab_type": "text"
      },
      "source": [
        "<a href=\"https://colab.research.google.com/github/adricia-png/phyton/blob/main/Untitled0.ipynb\" target=\"_parent\"><img src=\"https://colab.research.google.com/assets/colab-badge.svg\" alt=\"Open In Colab\"/></a>"
      ]
    },
    {
      "cell_type": "code",
      "execution_count": 3,
      "metadata": {
        "colab": {
          "base_uri": "https://localhost:8080/",
          "height": 373
        },
        "id": "UBFVHRESRxiO",
        "outputId": "448430ec-78ca-4595-d2f9-76e6a1249bfc"
      },
      "outputs": [
        {
          "output_type": "stream",
          "name": "stdout",
          "text": [
            "digite o preço dos seus produtos\n"
          ]
        },
        {
          "output_type": "error",
          "ename": "KeyboardInterrupt",
          "evalue": "Interrupted by user",
          "traceback": [
            "\u001b[0;31m---------------------------------------------------------------------------\u001b[0m",
            "\u001b[0;31mKeyboardInterrupt\u001b[0m                         Traceback (most recent call last)",
            "\u001b[0;32m/tmp/ipython-input-3036334054.py\u001b[0m in \u001b[0;36m<cell line: 0>\u001b[0;34m()\u001b[0m\n\u001b[1;32m      6\u001b[0m \u001b[0mprint\u001b[0m\u001b[0;34m(\u001b[0m\u001b[0;34m\"digite o preço dos seus produtos\"\u001b[0m\u001b[0;34m)\u001b[0m\u001b[0;34m\u001b[0m\u001b[0;34m\u001b[0m\u001b[0m\n\u001b[1;32m      7\u001b[0m \u001b[0;34m\u001b[0m\u001b[0m\n\u001b[0;32m----> 8\u001b[0;31m \u001b[0mpreco_arroz\u001b[0m \u001b[0;34m=\u001b[0m \u001b[0mfloat\u001b[0m\u001b[0;34m(\u001b[0m\u001b[0minput\u001b[0m\u001b[0;34m(\u001b[0m\u001b[0;34m\"Preço do Arroz (R$): \"\u001b[0m\u001b[0;34m)\u001b[0m\u001b[0;34m)\u001b[0m\u001b[0;34m\u001b[0m\u001b[0;34m\u001b[0m\u001b[0m\n\u001b[0m\u001b[1;32m      9\u001b[0m \u001b[0mpreco_feijao\u001b[0m \u001b[0;34m=\u001b[0m \u001b[0mfloat\u001b[0m\u001b[0;34m(\u001b[0m\u001b[0minput\u001b[0m\u001b[0;34m(\u001b[0m\u001b[0;34m\"Preço do Feijão (R$): \"\u001b[0m\u001b[0;34m)\u001b[0m\u001b[0;34m)\u001b[0m\u001b[0;34m\u001b[0m\u001b[0;34m\u001b[0m\u001b[0m\n\u001b[1;32m     10\u001b[0m \u001b[0mpreco_carne\u001b[0m \u001b[0;34m=\u001b[0m \u001b[0mfloat\u001b[0m\u001b[0;34m(\u001b[0m\u001b[0minput\u001b[0m\u001b[0;34m(\u001b[0m\u001b[0;34m\"Preço da Carne por KG (R$): \"\u001b[0m\u001b[0;34m)\u001b[0m\u001b[0;34m)\u001b[0m\u001b[0;34m\u001b[0m\u001b[0;34m\u001b[0m\u001b[0m\n",
            "\u001b[0;32m/usr/local/lib/python3.12/dist-packages/ipykernel/kernelbase.py\u001b[0m in \u001b[0;36mraw_input\u001b[0;34m(self, prompt)\u001b[0m\n\u001b[1;32m   1175\u001b[0m                 \u001b[0;34m\"raw_input was called, but this frontend does not support input requests.\"\u001b[0m\u001b[0;34m\u001b[0m\u001b[0;34m\u001b[0m\u001b[0m\n\u001b[1;32m   1176\u001b[0m             )\n\u001b[0;32m-> 1177\u001b[0;31m         return self._input_request(\n\u001b[0m\u001b[1;32m   1178\u001b[0m             \u001b[0mstr\u001b[0m\u001b[0;34m(\u001b[0m\u001b[0mprompt\u001b[0m\u001b[0;34m)\u001b[0m\u001b[0;34m,\u001b[0m\u001b[0;34m\u001b[0m\u001b[0;34m\u001b[0m\u001b[0m\n\u001b[1;32m   1179\u001b[0m             \u001b[0mself\u001b[0m\u001b[0;34m.\u001b[0m\u001b[0m_parent_ident\u001b[0m\u001b[0;34m[\u001b[0m\u001b[0;34m\"shell\"\u001b[0m\u001b[0;34m]\u001b[0m\u001b[0;34m,\u001b[0m\u001b[0;34m\u001b[0m\u001b[0;34m\u001b[0m\u001b[0m\n",
            "\u001b[0;32m/usr/local/lib/python3.12/dist-packages/ipykernel/kernelbase.py\u001b[0m in \u001b[0;36m_input_request\u001b[0;34m(self, prompt, ident, parent, password)\u001b[0m\n\u001b[1;32m   1217\u001b[0m             \u001b[0;32mexcept\u001b[0m \u001b[0mKeyboardInterrupt\u001b[0m\u001b[0;34m:\u001b[0m\u001b[0;34m\u001b[0m\u001b[0;34m\u001b[0m\u001b[0m\n\u001b[1;32m   1218\u001b[0m                 \u001b[0;31m# re-raise KeyboardInterrupt, to truncate traceback\u001b[0m\u001b[0;34m\u001b[0m\u001b[0;34m\u001b[0m\u001b[0m\n\u001b[0;32m-> 1219\u001b[0;31m                 \u001b[0;32mraise\u001b[0m \u001b[0mKeyboardInterrupt\u001b[0m\u001b[0;34m(\u001b[0m\u001b[0;34m\"Interrupted by user\"\u001b[0m\u001b[0;34m)\u001b[0m \u001b[0;32mfrom\u001b[0m \u001b[0;32mNone\u001b[0m\u001b[0;34m\u001b[0m\u001b[0;34m\u001b[0m\u001b[0m\n\u001b[0m\u001b[1;32m   1220\u001b[0m             \u001b[0;32mexcept\u001b[0m \u001b[0mException\u001b[0m\u001b[0;34m:\u001b[0m\u001b[0;34m\u001b[0m\u001b[0;34m\u001b[0m\u001b[0m\n\u001b[1;32m   1221\u001b[0m                 \u001b[0mself\u001b[0m\u001b[0;34m.\u001b[0m\u001b[0mlog\u001b[0m\u001b[0;34m.\u001b[0m\u001b[0mwarning\u001b[0m\u001b[0;34m(\u001b[0m\u001b[0;34m\"Invalid Message:\"\u001b[0m\u001b[0;34m,\u001b[0m \u001b[0mexc_info\u001b[0m\u001b[0;34m=\u001b[0m\u001b[0;32mTrue\u001b[0m\u001b[0;34m)\u001b[0m\u001b[0;34m\u001b[0m\u001b[0;34m\u001b[0m\u001b[0m\n",
            "\u001b[0;31mKeyboardInterrupt\u001b[0m: Interrupted by user"
          ]
        }
      ],
      "source": [
        "media_arroz= 9\n",
        "media_feijão= 12\n",
        "media_carne= 30\n",
        "media_macarrão= 5\n",
        "\n",
        "print(\"digite o preço dos seus produtos\")\n",
        "\n",
        "preco_arroz = float(input(\"Preço do Arroz (R$): \"))\n",
        "preco_feijao = float(input(\"Preço do Feijão (R$): \"))\n",
        "preco_carne = float(input(\"Preço da Carne por KG (R$): \"))\n",
        "preco_macarrao = float(input(\"Preço do Macarrão (R$): \"))\n",
        "\n",
        "print(\"comparando com a média nacional:\")\n",
        "\n",
        "if preco_arroz > media_arroz:\n",
        "    print(\"Arroz: Acima da média \")\n",
        "else:\n",
        "    print(\"Arroz: Abaixo da média\")\n",
        "\n",
        "if preco_feijao > media_feijão:\n",
        "    print(\"Feijão: Acima da média\")\n",
        "else:\n",
        "    print(\"Feijão: Abaixo da média\")\n",
        "\n",
        "if preco_carne > media_carne:\n",
        "    print(\"Carne: Acima da média \")\n",
        "else:\n",
        "    print(\"Carne: Abaixo da média\")\n",
        "\n",
        "if preco_macarrao > media_macarrão:\n",
        "    print(\"Macarrão: Acima da média\")\n",
        "else:\n",
        "    print(\"Macarrão: Abaixo da média\")\n",
        "\n"
      ]
    },
    {
      "cell_type": "code",
      "source": [
        "num1 = int(input(\"digite o primeiro numero: \"))\n",
        "num2 = int(input(\"digite o segundo numero: \"))\n",
        "num3 = int(input(\"digite o terceiro numero: \"))\n",
        "\n",
        "numeros = [num1, num2, num3]\n",
        "numeros.sort()\n",
        "print(\"====================================\")\n",
        "print(\"os numeros e ordem cresente ficam:\")\n",
        "print(numeros[0], numeros[1], numeros[2])"
      ],
      "metadata": {
        "colab": {
          "base_uri": "https://localhost:8080/"
        },
        "id": "uex21cW5iuA-",
        "outputId": "1cd3d06c-3ab2-415e-c7d4-fb2b42f4f6ca"
      },
      "execution_count": 23,
      "outputs": [
        {
          "output_type": "stream",
          "name": "stdout",
          "text": [
            "digite o primeiro numero: 4\n",
            "digite o segundo numero: 1\n",
            "digite o terceiro numero: 10\n",
            "====================================\n",
            "os numeros e ordem cresente ficam:\n",
            "1 4 10\n"
          ]
        }
      ]
    },
    {
      "cell_type": "code",
      "source": [],
      "metadata": {
        "id": "0UpcQ_v3j1zI"
      },
      "execution_count": null,
      "outputs": []
    },
    {
      "cell_type": "markdown",
      "source": [],
      "metadata": {
        "id": "K2naw6ATjm2J"
      }
    },
    {
      "cell_type": "code",
      "source": [
        "horas = float(input(\"digite o valor em horas: \"))\n",
        "\n",
        "minutos = horas * 60\n",
        "segundos = horas * 3600\n",
        "\n",
        "print(\"============================\")\n",
        "print(f\"{horas} horas equivalem a:\")\n",
        "print(f\"{minutos:.0f} minutos\")\n",
        "print(f\"{segundos:.0f} segundos\")\n"
      ],
      "metadata": {
        "colab": {
          "base_uri": "https://localhost:8080/"
        },
        "id": "2eEFQZ0giwR9",
        "outputId": "12646bed-8e39-47e8-bc4a-570af5c11770"
      },
      "execution_count": 22,
      "outputs": [
        {
          "output_type": "stream",
          "name": "stdout",
          "text": [
            "digite o valor em horas: 5\n",
            "============================\n",
            "5.0 horas equivalem a:\n",
            "300 minutos\n",
            "18000 segundos\n"
          ]
        }
      ]
    },
    {
      "cell_type": "code",
      "source": [
        "numero = int(input(\"digite um numero: \"))\n",
        "\n",
        "if numero % 2 == 0:\n",
        "    print(\"esse numero é par\")\n",
        "else:\n",
        "    print(\"esse numero é impar\")\n",
        "\n",
        "if numero > 0:\n",
        "    print(\"numero positivo\")\n",
        "elif numero < 0:\n",
        "    print(\"numero negativo\")\n",
        "else:\n",
        "    print(\"numero 0\")\n"
      ],
      "metadata": {
        "colab": {
          "base_uri": "https://localhost:8080/"
        },
        "id": "BygFRr6tWvM8",
        "outputId": "81b1d927-a2a8-43f0-c213-7cb881180968"
      },
      "execution_count": 5,
      "outputs": [
        {
          "output_type": "stream",
          "name": "stdout",
          "text": [
            "digite um número: 20000006\n",
            "esse numero é par\n",
            "numero positivo\n"
          ]
        }
      ]
    },
    {
      "cell_type": "code",
      "source": [
        "nota1= float(input(\"digite a primeira nota do aluno: \"))\n",
        "nota2= float(input(\"digite a segunda nota do aluno: \"))\n",
        "nota3= float(input(\"digite a terceira nota do aluno: \"))\n",
        "\n",
        "media= (nota1 + nota2 + nota3) /3\n",
        "media = round(media, 2)\n",
        "\n",
        "print(f\"\\nMédia do aluno: {media:.2f}\")\n",
        "if media == 10:\n",
        "  print(\"o aluno foi aprovado com louvor.\")\n",
        "elif media >= 7.0:\n",
        "    print(\"o aluno foi aprovado\")\n",
        "else:\n",
        "    print(\"o aluno foi reprovado\")"
      ],
      "metadata": {
        "colab": {
          "base_uri": "https://localhost:8080/"
        },
        "id": "s_m_QByFX3vb",
        "outputId": "8e05730f-8a42-4c38-9e77-597ecfd24a89"
      },
      "execution_count": 11,
      "outputs": [
        {
          "output_type": "stream",
          "name": "stdout",
          "text": [
            "digite a primeira nota do aluno: 4\n",
            "digite a segunda nota do aluno: 9\n",
            "digite a terceira nota do aluno: 8\n",
            "\n",
            "Média do aluno: 7.00\n",
            "o aluno foi aprovado\n"
          ]
        }
      ]
    },
    {
      "cell_type": "code",
      "source": [
        "total = int(input(\"quantas pessoas vão votar? \"))\n",
        "\n",
        "votos_felca = 0\n",
        "votos_bolsonara = 0\n",
        "votos_calanguinho = 0\n",
        "\n",
        "for i in range(total):\n",
        "    print(\"candidatos:\")\n",
        "    print(\"1 - felca\")\n",
        "    print(\"2 - bolsonara\")\n",
        "    print(\"3 - calanguinho\")\n",
        "\n",
        "    voto = int(input(\"digite o número do seu candidato (1, 2 ou 3): \"))\n",
        "\n",
        "    if voto == 1:\n",
        "        votos_felca += 1\n",
        "    elif voto == 2:\n",
        "        votos_bolsonara += 1\n",
        "    elif voto == 3:\n",
        "        votos_calanguinho += 1\n",
        "    else:\n",
        "        print(\"voto inválido! Por favor tente novamente.\")\n",
        "\n",
        "\n",
        "print(\"===================================================\")\n",
        "print(\"//RESULTADO DA VOTAÇÂO//\")\n",
        "print(\"felca recebeu\", votos_felca, \"votos\")\n",
        "print(\"bolsonara recebeu\", votos_bolsonara, \"votos\")\n",
        "print(\"calanguinho recebeu\", votos_calanguinho, \"votos\")"
      ],
      "metadata": {
        "colab": {
          "base_uri": "https://localhost:8080/"
        },
        "id": "6HDX7ikwZMpF",
        "outputId": "8e5ddbeb-2051-4d7d-9a30-5fdfba8590a3"
      },
      "execution_count": 18,
      "outputs": [
        {
          "output_type": "stream",
          "name": "stdout",
          "text": [
            "quantas pessoas vão votar? 4\n",
            "candidatos:\n",
            "1 - felca\n",
            "2 - bolsonara\n",
            "3 - calanguinho\n",
            "digite o número do seu candidato (1, 2 ou 3): 1\n",
            "candidatos:\n",
            "1 - felca\n",
            "2 - bolsonara\n",
            "3 - calanguinho\n",
            "digite o número do seu candidato (1, 2 ou 3): 1\n",
            "candidatos:\n",
            "1 - felca\n",
            "2 - bolsonara\n",
            "3 - calanguinho\n",
            "digite o número do seu candidato (1, 2 ou 3): 2\n",
            "candidatos:\n",
            "1 - felca\n",
            "2 - bolsonara\n",
            "3 - calanguinho\n",
            "digite o número do seu candidato (1, 2 ou 3): 3\n",
            "===================================================\n",
            "//RESULTADO DA VOTAÇÂO//\n",
            "felca recebeu 2 votos\n",
            "bolsonara recebeu 1 votos\n",
            "calanguinho recebeu 1 votos\n"
          ]
        }
      ]
    },
    {
      "cell_type": "code",
      "source": [
        "umero = int(input(\"digite um numero: \"))\n",
        "\n",
        "divisores = 0\n",
        "\n",
        "for i in range(1, numero + 1):\n",
        "    if numero % i == 0:\n",
        "        divisores += 1\n",
        "\n",
        "if divisores == 2:\n",
        "    print(\"é um número primo.\")\n",
        "else:\n",
        "    print(\"não é um número primo.\")\n"
      ],
      "metadata": {
        "colab": {
          "base_uri": "https://localhost:8080/"
        },
        "id": "o8y2ENmlSJLV",
        "outputId": "8c7e58bc-17c9-4a83-8cff-d1d0d718d692"
      },
      "execution_count": 21,
      "outputs": [
        {
          "output_type": "stream",
          "name": "stdout",
          "text": [
            "digite um numero: 8\n",
            "não é um número primo.\n"
          ]
        }
      ]
    }
  ]
}