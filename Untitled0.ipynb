{
  "nbformat": 4,
  "nbformat_minor": 0,
  "metadata": {
    "colab": {
      "provenance": [],
      "authorship_tag": "ABX9TyPnk2kO0GJV6VcpZwBXprF8",
      "include_colab_link": true
    },
    "kernelspec": {
      "name": "python3",
      "display_name": "Python 3"
    },
    "language_info": {
      "name": "python"
    }
  },
  "cells": [
    {
      "cell_type": "markdown",
      "metadata": {
        "id": "view-in-github",
        "colab_type": "text"
      },
      "source": [
        "<a href=\"https://colab.research.google.com/github/adricia-png/phyton/blob/main/Untitled0.ipynb\" target=\"_parent\"><img src=\"https://colab.research.google.com/assets/colab-badge.svg\" alt=\"Open In Colab\"/></a>"
      ]
    },
    {
      "cell_type": "code",
      "execution_count": 2,
      "metadata": {
        "colab": {
          "base_uri": "https://localhost:8080/"
        },
        "id": "UBFVHRESRxiO",
        "outputId": "7a7ab517-4ebc-4575-cc94-145ad992e240"
      },
      "outputs": [
        {
          "output_type": "stream",
          "name": "stdout",
          "text": [
            "digite o preço dos seus produtos\n",
            "Preço do Arroz (R$): 6\n",
            "Preço do Feijão (R$): 9\n",
            "Preço da Carne por KG (R$): 50\n",
            "Preço do Macarrão (R$): 4\n",
            "comparando com a média nacional:\n",
            "Arroz: Abaixo da média\n",
            "Feijão: Abaixo da média\n",
            "Carne: Acima da média \n",
            "Macarrão: Abaixo da média\n"
          ]
        }
      ],
      "source": [
        "media_arroz= 9\n",
        "media_feijão= 12\n",
        "media_carne= 30\n",
        "media_macarrão= 5\n",
        "\n",
        "print(\"digite o preço dos seus produtos\")\n",
        "\n",
        "preco_arroz = float(input(\"Preço do Arroz (R$): \"))\n",
        "preco_feijao = float(input(\"Preço do Feijão (R$): \"))\n",
        "preco_carne = float(input(\"Preço da Carne por KG (R$): \"))\n",
        "preco_macarrao = float(input(\"Preço do Macarrão (R$): \"))\n",
        "\n",
        "print(\"comparando com a média nacional:\")\n",
        "\n",
        "if preco_arroz > media_arroz:\n",
        "    print(\"Arroz: Acima da média \")\n",
        "else:\n",
        "    print(\"Arroz: Abaixo da média\")\n",
        "\n",
        "if preco_feijao > media_feijão:\n",
        "    print(\"Feijão: Acima da média\")\n",
        "else:\n",
        "    print(\"Feijão: Abaixo da média\")\n",
        "\n",
        "if preco_carne > media_carne:\n",
        "    print(\"Carne: Acima da média \")\n",
        "else:\n",
        "    print(\"Carne: Abaixo da média\")\n",
        "\n",
        "if preco_macarrao > media_macarrão:\n",
        "    print(\"Macarrão: Acima da média\")\n",
        "else:\n",
        "    print(\"Macarrão: Abaixo da média\")\n",
        "\n"
      ]
    },
    {
      "cell_type": "code",
      "source": [],
      "metadata": {
        "id": "o8y2ENmlSJLV"
      },
      "execution_count": 2,
      "outputs": []
    }
  ]
}